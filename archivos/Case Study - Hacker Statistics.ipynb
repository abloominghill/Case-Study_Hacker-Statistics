{
 "cells": [
  {
   "cell_type": "markdown",
   "id": "f54c060a",
   "metadata": {},
   "source": [
    "<img src='portada.png' align='center'>"
   ]
  },
  {
   "cell_type": "markdown",
   "id": "8cc0a02c",
   "metadata": {},
   "source": [
    "<h1 align=center><font size=7>Case Study - Hacker Statistics 🎲</font></h1>\n",
    "\n",
    "<h4 align=center><font size=3>Estudio de caso para poner en práctica lo aprendido en el curso \"Intermediate Python\". </font></h4>"
   ]
  },
  {
   "cell_type": "markdown",
   "id": "55b9f6fb",
   "metadata": {},
   "source": [
    "Lo primero que necesitaremos son generadores aleatorios, para poder simular el dado. \n",
    "\n",
    "La función **rand()** del paquete random de numpy genera un flotante aleatorio entre 0 y 1 si no se especifica ningún argumento.\n",
    "\n",
    "La función **randint()**, también una función del paquete random, genera números enteros al azar.\n",
    "\n",
    "**seed()** establece la semilla aleatoria, de modo que sus resultados sean reproducibles entre simulaciones. Como argumento, toma un número entero de su elección. El valor semilla es un valor base utilizado por un generador pseudoaleatorio para producir números aleatorios.  Si llama a la función, no se generará ningún resultado.\n",
    "\n",
    "Un **número pseudoaleatorio** es un número generado en un proceso que parece producir números al azar, pero no lo hace realmente. Las secuencias de números pseudoaleatorios no muestran ningún patrón o regularidad aparente desde un punto de vista estadístico, a pesar de haber sido generadas por un algoritmo completamente determinista, en el que las mismas condiciones iniciales producen siempre el mismo resultado."
   ]
  },
  {
   "cell_type": "code",
   "execution_count": 1,
   "id": "09c6b5a5",
   "metadata": {},
   "outputs": [],
   "source": [
    "# Importar librerias necesarias\n",
    "import numpy as np\n",
    "import matplotlib.pyplot as plt"
   ]
  },
  {
   "cell_type": "code",
   "execution_count": 2,
   "id": "59542a41",
   "metadata": {},
   "outputs": [],
   "source": [
    "# Definimos la semilla\n",
    "np.random.seed(123)"
   ]
  },
  {
   "cell_type": "markdown",
   "id": "3361eed2",
   "metadata": {},
   "source": [
    "### Determinar el próximo movimiento"
   ]
  },
  {
   "cell_type": "markdown",
   "id": "8d50e438",
   "metadata": {},
   "source": [
    "Usaremos randint() para crear la variable 'dice' y una construcción if-elif-else.\n",
    "\n",
    "- Si el dado es 1 o 2, bajas un paso.\n",
    "- Si los dados son 3, 4 o 5, subes un paso.\n",
    "- Si sacas un 6, lanzarás el dado de nuevo y subirás el número de pasos resultante."
   ]
  },
  {
   "cell_type": "code",
   "execution_count": 3,
   "id": "173ed805",
   "metadata": {},
   "outputs": [
    {
     "name": "stdout",
     "output_type": "stream",
     "text": [
      "[0, 3, 4, 5, 4, 5, 6, 7, 6, 5, 4, 3, 2, 1, 0, -1, 0, 5, 4, 3, 4, 3, 4, 5, 6, 7, 8, 7, 8, 7, 8, 9, 10, 11, 10, 14, 15, 14, 15, 14, 15, 16, 17, 18, 19, 20, 21, 24, 25, 26, 27, 32, 33, 37, 38, 37, 38, 39, 38, 39, 40, 42, 43, 44, 43, 42, 43, 44, 43, 42, 43, 44, 46, 45, 44, 45, 44, 45, 46, 47, 49, 48, 49, 50, 51, 52, 53, 52, 51, 52, 51, 52, 53, 52, 55, 56, 57, 58, 57, 58, 59]\n"
     ]
    }
   ],
   "source": [
    "# Crear una lista que contiene el primero paso, 0\n",
    "random_walk = [0]\n",
    "\n",
    "# Simularemos 100 lanzamientos\n",
    "\n",
    "for x in range(100) :\n",
    "    # Seleccionar el ultimo paso en random_walk\n",
    "    step = random_walk[-1]\n",
    "    \n",
    "    # Numero aleatorio entre 1 y 6\n",
    "    dice = np.random.randint(1,7)\n",
    "\n",
    "    # Determinar el proximo paso\n",
    "    if dice <= 2:\n",
    "        step = step - 1\n",
    "        \n",
    "    elif dice <= 5:\n",
    "        step = step + 1\n",
    "        \n",
    "    else:\n",
    "        step = step + np.random.randint(1,7)\n",
    "\n",
    "    # Añadir el paso a random_walk\n",
    "    random_walk.append(step)\n",
    "\n",
    "print(random_walk)"
   ]
  },
  {
   "cell_type": "markdown",
   "id": "5faab891",
   "metadata": {},
   "source": [
    "### ¿Cúan bajo se puede ir?\n",
    "\n",
    "Ya tenemos un código que calcula la ubicación en el Empire State Building después de 100 lanzamientos de dados. Sin embargo, hay algo en lo que no hemos pensado: ¡no se puede ir por debajo de 0!, es decir, no podemos tenemos resultados negativos.\n",
    "\n",
    "Una forma típica de resolver problemas como este es usando max(). Si se pasa a max() dos argumentos, se devuelve el más grande."
   ]
  },
  {
   "cell_type": "code",
   "execution_count": 4,
   "id": "964e29e6",
   "metadata": {},
   "outputs": [
    {
     "name": "stdout",
     "output_type": "stream",
     "text": [
      "[0, 4, 3, 2, 4, 3, 4, 6, 7, 8, 13, 12, 13, 14, 15, 16, 17, 16, 21, 22, 23, 24, 23, 22, 21, 20, 19, 20, 21, 22, 28, 27, 26, 25, 26, 27, 28, 27, 28, 29, 28, 33, 34, 33, 32, 31, 30, 31, 30, 29, 31, 32, 35, 36, 38, 39, 40, 41, 40, 39, 40, 41, 42, 43, 42, 43, 44, 45, 48, 49, 50, 49, 50, 49, 50, 51, 52, 56, 55, 54, 55, 56, 57, 56, 57, 56, 57, 59, 64, 63, 64, 65, 66, 67, 68, 69, 68, 69, 70, 71, 73]\n"
     ]
    }
   ],
   "source": [
    "random_walk = [0]\n",
    "\n",
    "for x in range(100) :\n",
    "    step = random_walk[-1]\n",
    "    dice = np.random.randint(1,7)\n",
    "\n",
    "    if dice <= 2:\n",
    "        # Usar max() para que devuelva 0 en caso de obtener un numero negativo\n",
    "        step = max(0, step-1)\n",
    "        \n",
    "    elif dice <= 5:\n",
    "        step = step + 1\n",
    "        \n",
    "    else:\n",
    "        step = step + np.random.randint(1,7)\n",
    "\n",
    "    random_walk.append(step)\n",
    "\n",
    "print(random_walk)"
   ]
  },
  {
   "cell_type": "markdown",
   "id": "af860c90",
   "metadata": {},
   "source": [
    "### Visualizar la caminata"
   ]
  },
  {
   "cell_type": "code",
   "execution_count": 5,
   "id": "a6061abd",
   "metadata": {},
   "outputs": [
    {
     "data": {
      "text/plain": [
       "<function matplotlib.pyplot.show(close=None, block=None)>"
      ]
     },
     "execution_count": 5,
     "metadata": {},
     "output_type": "execute_result"
    },
    {
     "data": {
      "image/png": "[encoded data removed]",
      "text/plain": [
       "<Figure size 432x288 with 1 Axes>"
      ]
     },
     "metadata": {
      "needs_background": "light"
     },
     "output_type": "display_data"
    }
   ],
   "source": [
    "plt.plot(random_walk)\n",
    "plt.show"
   ]
  },
  {
   "cell_type": "markdown",
   "id": "4bfa9305",
   "metadata": {},
   "source": [
    "### Distribución\n",
    "\n",
    "Ya sabemos cómo simular una caminata aleatoria pero todavía tenemos que responder a la pregunta principal: ¿cuál es la probabilidad de alcanzar los 60 escalones de altura?.\n",
    "\n",
    "Cada caminata aleatoria terminará en un paso diferente. Si simulas esta caminata miles de veces, terminarás con miles de pasos finales. Esta es en realidad una distribución de pasos finales. Y una vez que conoce la distribución, puede comenzar a calcular las posibilidades.\n",
    "\n",
    "Para tener una idea de cuán grandes son las posibilidades de alcanzar los 60 pasos, podemos simular repetidamente la caminata aleatoria y recopilar los resultados."
   ]
  },
  {
   "cell_type": "code",
   "execution_count": 6,
   "id": "5935c46b",
   "metadata": {
    "scrolled": false
   },
   "outputs": [],
   "source": [
    "# Crear una lista vacia para recopilar todos los resultados\n",
    "all_walks = []\n",
    "\n",
    "# Simular una caminata aleatoria diez veces\n",
    "for i in range(10) :\n",
    "\n",
    "    # El codigo definido anteriormente\n",
    "    random_walk = [0]\n",
    "    \n",
    "    for x in range(100):\n",
    "        \n",
    "        step = random_walk[-1]\n",
    "        dice = np.random.randint(1,7)\n",
    "\n",
    "        if dice <= 2:\n",
    "            step = max(0, step - 1)\n",
    "            \n",
    "        elif dice <= 5:\n",
    "            step = step + 1\n",
    "            \n",
    "        else:\n",
    "            step = step + np.random.randint(1,7)\n",
    "            \n",
    "        random_walk.append(step)\n",
    "\n",
    "    # Agregar los resultados de cada una de las diez simulaciones en la lista all_walks\n",
    "    all_walks.append(random_walk)"
   ]
  },
  {
   "cell_type": "code",
   "execution_count": 7,
   "id": "9de24f28",
   "metadata": {},
   "outputs": [
    {
     "data": {
      "text/plain": [
       "10"
      ]
     },
     "execution_count": 7,
     "metadata": {},
     "output_type": "execute_result"
    }
   ],
   "source": [
    "len(all_walks)"
   ]
  },
  {
   "cell_type": "markdown",
   "id": "d013eafc",
   "metadata": {},
   "source": [
    "all_walks es una lista de listas: cada sublista representa un solo paseo aleatorio. Si se convierte en una matriz NumPy podemos comenzar a hacer gráficos interesantes!"
   ]
  },
  {
   "cell_type": "code",
   "execution_count": 8,
   "id": "05c1c6a5",
   "metadata": {},
   "outputs": [],
   "source": [
    "np_aw = np.array(all_walks)"
   ]
  },
  {
   "cell_type": "markdown",
   "id": "65982d2c",
   "metadata": {},
   "source": [
    "Transponemos np_aw llamando a np.transpose(), con esto cada fila representará la posición despues de un lanzamiento en las diez caminatas aleatorias."
   ]
  },
  {
   "cell_type": "code",
   "execution_count": 9,
   "id": "9830ba9a",
   "metadata": {},
   "outputs": [
    {
     "data": {
      "text/plain": [
       "array([[ 1,  6, 11],\n",
       "       [ 2,  7, 12],\n",
       "       [ 3,  8, 13],\n",
       "       [ 4,  9, 14],\n",
       "       [ 5, 10, 15]])"
      ]
     },
     "execution_count": 9,
     "metadata": {},
     "output_type": "execute_result"
    }
   ],
   "source": [
    "##### Ejemplo de cómo funciona el transponer\n",
    "\n",
    "array = [[1, 2, 3, 4, 5],\n",
    "         [6, 7, 8, 9, 10],\n",
    "         [11, 12, 13, 14, 15]]\n",
    "np.transpose(array)"
   ]
  },
  {
   "cell_type": "code",
   "execution_count": 10,
   "id": "95f88b9a",
   "metadata": {},
   "outputs": [],
   "source": [
    "#Transponemos np_aw y guardamos el resultado en np_aw_t\n",
    "np_aw_t = np.transpose(np_aw)"
   ]
  },
  {
   "cell_type": "markdown",
   "id": "6084203f",
   "metadata": {},
   "source": [
    "#### Visualizar todas las caminatas"
   ]
  },
  {
   "cell_type": "code",
   "execution_count": 11,
   "id": "c7856f34",
   "metadata": {},
   "outputs": [
    {
     "data": {
      "image/png": "[encoded data removed]",
      "text/plain": [
       "<Figure size 432x288 with 1 Axes>"
      ]
     },
     "metadata": {
      "needs_background": "light"
     },
     "output_type": "display_data"
    }
   ],
   "source": [
    "plt.plot(np_aw_t)\n",
    "plt.show()"
   ]
  },
  {
   "cell_type": "markdown",
   "id": "eede2702",
   "metadata": {},
   "source": [
    "### Incluir la posilibidad de caída\n",
    "\n",
    "Si queremos cambiar el número de veces que se debe simular la caminata, simplemente cambiamos el valor de range() en la primera línea del bucle del código ya escrito.\n",
    "\n",
    "¡Todavía hay algo que olvidamos! Somos un poco torpes y hay un 0,1% de posibilidades de caernos. Eso requiere otra generación de números aleatorios. Básicamente, puede generar un flotante aleatorio entre 0 y 1. Si este valor es menor o igual a 0.001, debe restablecer el paso a 0.\n",
    "\n",
    "Como vamos a calcular un valor entre 0 y 1 entonces usamos np.random.rand()"
   ]
  },
  {
   "cell_type": "code",
   "execution_count": 12,
   "id": "13001452",
   "metadata": {},
   "outputs": [],
   "source": [
    "all_walks = []\n",
    "\n",
    "# Simulamos 500 caminatas\n",
    "for i in range(500):\n",
    "    \n",
    "    random_walk = [0]\n",
    "    \n",
    "    for x in range(100):\n",
    "        \n",
    "        step = random_walk[-1]\n",
    "        dice = np.random.randint(1,7)\n",
    "        \n",
    "        if dice <= 2:\n",
    "            step = max(0, step - 1)\n",
    "            \n",
    "        elif dice <= 5:\n",
    "            step = step + 1\n",
    "            \n",
    "        else:\n",
    "            step = step + np.random.randint(1,7)\n",
    "\n",
    "        # Implementamos la posibilidad de caida\n",
    "        if  np.random.rand() <= 0.001:\n",
    "            step = 0\n",
    "\n",
    "        random_walk.append(step)\n",
    "        \n",
    "    all_walks.append(random_walk)"
   ]
  },
  {
   "cell_type": "markdown",
   "id": "6b13151b",
   "metadata": {},
   "source": [
    "### Graficar la distribución\n",
    "\n",
    "¿cuáles son entonces las probabilidades de que alcanzar los 60 escalones de altura en el Empire State Building?\n",
    "\n",
    "Básicamente, deseamos conocer los puntos finales de todas las caminatas aleatorias que hemos simulado. Estos puntos finales tienen una cierta distribución que se puede visualizar con un histograma."
   ]
  },
  {
   "cell_type": "code",
   "execution_count": 13,
   "id": "bbcabdab",
   "metadata": {},
   "outputs": [],
   "source": [
    "np_aw = np.array(all_walks)\n",
    "np_aw_t = np.transpose(np_aw)"
   ]
  },
  {
   "cell_type": "markdown",
   "id": "55728a56",
   "metadata": {},
   "source": [
    "Debemos seleccionar la última fila de np_aw_t ya que contiene el punto final de los 500 recorridos aleatorios que hemos simulado."
   ]
  },
  {
   "cell_type": "code",
   "execution_count": 14,
   "id": "1cfbec5d",
   "metadata": {},
   "outputs": [],
   "source": [
    "ends = np_aw_t[-1]"
   ]
  },
  {
   "cell_type": "code",
   "execution_count": 15,
   "id": "1daacfb8",
   "metadata": {},
   "outputs": [
    {
     "data": {
      "text/plain": [
       "(array([  6.,   9.,   7.,  26.,  71., 123., 136.,  85.,  24.,  13.]),\n",
       " array([  0. ,  12.2,  24.4,  36.6,  48.8,  61. ,  73.2,  85.4,  97.6,\n",
       "        109.8, 122. ]),\n",
       " <BarContainer object of 10 artists>)"
      ]
     },
     "execution_count": 15,
     "metadata": {},
     "output_type": "execute_result"
    },
    {
     "data": {
      "image/png": "[encoded data removed]",
      "text/plain": [
       "<Figure size 432x288 with 1 Axes>"
      ]
     },
     "metadata": {
      "needs_background": "light"
     },
     "output_type": "display_data"
    }
   ],
   "source": [
    "plt.hist(ends, edgecolor='black')"
   ]
  },
  {
   "cell_type": "markdown",
   "id": "b4d1434a",
   "metadata": {},
   "source": [
    "### Calcular las probabilidades\n",
    "\n",
    "Para obtener las posibilidades de subir los 60 escalones debemos obtener el total de veces que el punto final de la caminta fue mayor o igual a 60 y dividirlo por el total de simulaciones."
   ]
  },
  {
   "cell_type": "code",
   "execution_count": 16,
   "id": "938fb0c7",
   "metadata": {},
   "outputs": [],
   "source": [
    "ends_greater_60 = len(ends[ends>=60])\n",
    "total_walks = len(all_walks)"
   ]
  },
  {
   "cell_type": "code",
   "execution_count": 17,
   "id": "2e28bf0a",
   "metadata": {},
   "outputs": [
    {
     "name": "stdout",
     "output_type": "stream",
     "text": [
      "La posibilidad de alcanzar los 60 escalones es 77.6%\n"
     ]
    }
   ],
   "source": [
    "odds = round(((ends_greater_60 / total_walks) * 100), 3)\n",
    "print(f'La posibilidad de alcanzar los 60 escalones es {odds}%')"
   ]
  }
 ],
 "metadata": {
  "kernelspec": {
   "display_name": "Python 3 (ipykernel)",
   "language": "python",
   "name": "python3"
  },
  "language_info": {
   "codemirror_mode": {
    "name": "ipython",
    "version": 3
   },
   "file_extension": ".py",
   "mimetype": "text/x-python",
   "name": "python",
   "nbconvert_exporter": "python",
   "pygments_lexer": "ipython3",
   "version": "3.9.7"
  }
 },
 "nbformat": 4,
 "nbformat_minor": 5
}
